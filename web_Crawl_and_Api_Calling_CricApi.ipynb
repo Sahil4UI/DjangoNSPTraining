{
  "nbformat": 4,
  "nbformat_minor": 0,
  "metadata": {
    "colab": {
      "provenance": []
    },
    "kernelspec": {
      "name": "python3",
      "display_name": "Python 3"
    },
    "language_info": {
      "name": "python"
    }
  },
  "cells": [
    {
      "cell_type": "code",
      "execution_count": null,
      "metadata": {
        "id": "b828Hc5ERUBG"
      },
      "outputs": [],
      "source": [
        "import urllib.request as url"
      ]
    },
    {
      "cell_type": "code",
      "source": [
        "import bs4"
      ],
      "metadata": {
        "id": "g9pDWr1GRbvK"
      },
      "execution_count": null,
      "outputs": []
    },
    {
      "cell_type": "code",
      "source": [
        "path = \"https://www.cricbuzz.com/\""
      ],
      "metadata": {
        "id": "OC3WxqnBRcja"
      },
      "execution_count": null,
      "outputs": []
    },
    {
      "cell_type": "code",
      "source": [
        "res = url.urlopen(path)"
      ],
      "metadata": {
        "id": "2UrzxuegRpZH"
      },
      "execution_count": null,
      "outputs": []
    },
    {
      "cell_type": "code",
      "source": [
        "data=bs4.BeautifulSoup(res,\"lxml\")"
      ],
      "metadata": {
        "id": "IxhOdEfjRq1f"
      },
      "execution_count": null,
      "outputs": []
    },
    {
      "cell_type": "code",
      "source": [
        "img_list=data.find_all(\"img\")\n",
        "for i in range(len(img_list)):\n",
        "    img = img_list[i]\n",
        "    if (\" src=\" in str(img) and img[\"src\"]!=\"\"):\n",
        "        url.urlretrieve(img[\"src\"],f\"image {i}.{img['src'].split('.')[-1]}\")"
      ],
      "metadata": {
        "id": "rvous_ChRsjv"
      },
      "execution_count": null,
      "outputs": []
    },
    {
      "cell_type": "code",
      "source": [],
      "metadata": {
        "id": "Vhm1rq67RtEw"
      },
      "execution_count": null,
      "outputs": []
    },
    {
      "cell_type": "code",
      "source": [
        "import urllib.request as url\n",
        "import json\n",
        "name = input(\"Enter Player Name : \")\n",
        "path = \"https://api.cricapi.com/v1/players?apikey=a7233f4d-1f47-461a-92d5-899b8409091d&offset=0&search=\"+name\n",
        "res = url.urlopen(path)\n",
        "data = json.load(res)\n",
        "id = data[\"data\"][0][\"id\"]\n",
        "path=\"https://api.cricapi.com/v1/players_info?apikey=a7233f4d-1f47-461a-92d5-899b8409091d&id=\"+id\n",
        "res = url.urlopen(path)\n",
        "data = json.load(res)\n",
        "print(\"Player Name : \"+data[\"data\"][\"name\"])"
      ],
      "metadata": {
        "colab": {
          "base_uri": "https://localhost:8080/"
        },
        "id": "aETnmzBMRxda",
        "outputId": "6e73bcd9-e5a0-42dc-a1b0-17a752391ddb"
      },
      "execution_count": null,
      "outputs": [
        {
          "output_type": "stream",
          "name": "stdout",
          "text": [
            "Enter Player Name : dhoni\n",
            "Player Name : MS Dhoni\n"
          ]
        }
      ]
    },
    {
      "cell_type": "code",
      "source": [],
      "metadata": {
        "id": "PiEt1kyhhfhM"
      },
      "execution_count": null,
      "outputs": []
    }
  ]
}